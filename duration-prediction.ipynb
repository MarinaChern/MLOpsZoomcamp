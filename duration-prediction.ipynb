{
 "cells": [
  {
   "cell_type": "code",
   "execution_count": 2,
   "id": "2923805d",
   "metadata": {},
   "outputs": [
    {
     "name": "stdout",
     "output_type": "stream",
     "text": [
      "Python 3.9.12\r\n"
     ]
    }
   ],
   "source": [
    "!python -V"
   ]
  },
  {
   "cell_type": "code",
   "execution_count": 184,
   "id": "34488ecb",
   "metadata": {},
   "outputs": [],
   "source": [
    "import pandas as pd\n",
    "import numpy as np\n",
    "import seaborn as sns\n",
    "import matplotlib.pyplot as plt\n",
    "from sklearn.feature_extraction import DictVectorizer\n",
    "from sklearn.linear_model import LinearRegression, Lasso\n",
    "\n",
    "from sklearn.metrics import mean_squared_error\n",
    "\n",
    "import pickle"
   ]
  },
  {
   "cell_type": "code",
   "execution_count": 185,
   "id": "a7130ebf",
   "metadata": {},
   "outputs": [],
   "source": [
    "def read_dataframe(filename):\n",
    "    if filename.endswith('.parquet'):\n",
    "        df = pd.read_parquet(filename)\n",
    "\n",
    "    if 'lpep_pickup_datetime' in df.columns:\n",
    "        df['duration'] = df.lpep_dropoff_datetime - df.lpep_pickup_datetime\n",
    "    else:\n",
    "        df['duration'] = df.dropOff_datetime - df.pickup_datetime\n",
    "    df.duration = df.duration.apply(lambda td: td.total_seconds() / 60)\n",
    "\n",
    "    df = df[(df.duration >= 1) & (df.duration <= 60)]\n",
    "\n",
    "    if 'PULocationID' in df.columns:\n",
    "        categorical = ['PULocationID', 'DOLocationID']\n",
    "    else:\n",
    "        categorical = ['PUlocationID', 'DOlocationID']\n",
    "        df['PULocationID'] = 'PUlocationID'\n",
    "        df['DOLocationID'] = 'DOlocationID'\n",
    "        \n",
    "    df[categorical] = df[categorical].fillna(-1)\n",
    "    df[categorical] = df[categorical].astype(int).astype(str)\n",
    "\n",
    "    return df"
   ]
  },
  {
   "cell_type": "code",
   "execution_count": 186,
   "id": "eb104b43",
   "metadata": {},
   "outputs": [],
   "source": [
    "df_train_green = read_dataframe('./data/green_tripdata_2021-01.parquet')\n",
    "df_val_green = read_dataframe('./data/green_tripdata_2021-02.parquet')"
   ]
  },
  {
   "cell_type": "code",
   "execution_count": 187,
   "id": "58aa415d",
   "metadata": {},
   "outputs": [],
   "source": [
    "df_train_fhv = read_dataframe('./data/fhv_tripdata_2021-01.parquet')\n",
    "df_val_fhv = read_dataframe('./data/fhv_tripdata_2021-02.parquet')"
   ]
  },
  {
   "cell_type": "code",
   "execution_count": 188,
   "id": "15fe0a37",
   "metadata": {},
   "outputs": [],
   "source": [
    "dv = DictVectorizer()\n",
    "def preproc(data, train=True):\n",
    "    global dv\n",
    "    categorical = ['PUlocationID', 'DOlocationID']\n",
    "    numerical = ['trip_distance']\n",
    "    features = categorical # + numerical\n",
    "    dicts = data[features].to_dict(orient='records')\n",
    "    if train:\n",
    "        dv = DictVectorizer()        \n",
    "        X = dv.fit_transform(dicts)\n",
    "    else:\n",
    "        X = dv.transform(dicts)\n",
    "\n",
    "    target = 'duration'\n",
    "    y = data[target].values\n",
    "    return X, y\n"
   ]
  },
  {
   "cell_type": "code",
   "execution_count": 192,
   "id": "2e2bba70",
   "metadata": {},
   "outputs": [],
   "source": [
    "def train_and_eval(_X_train, _y_train, _X_val, _y_val):\n",
    "    lr = LinearRegression()\n",
    "    lr.fit(_X_train, _y_train)\n",
    "\n",
    "    _y_pred = lr.predict(_X_val)\n",
    "    sns.distplot(_y_pred, label='prediction')\n",
    "    sns.distplot(_y_val, label='actual')\n",
    "    plt.legend()\n",
    "    print(\"mean squared error:\", mean_squared_error(_y_val, _y_pred, squared=False))\n",
    "    return lr"
   ]
  },
  {
   "cell_type": "code",
   "execution_count": 193,
   "id": "3aa4a45c",
   "metadata": {},
   "outputs": [
    {
     "name": "stderr",
     "output_type": "stream",
     "text": [
      "/home/ubuntu/anaconda3/lib/python3.9/site-packages/seaborn/distributions.py:2619: FutureWarning: `distplot` is a deprecated function and will be removed in a future version. Please adapt your code to use either `displot` (a figure-level function with similar flexibility) or `histplot` (an axes-level function for histograms).\n",
      "  warnings.warn(msg, FutureWarning)\n",
      "/home/ubuntu/anaconda3/lib/python3.9/site-packages/seaborn/distributions.py:2619: FutureWarning: `distplot` is a deprecated function and will be removed in a future version. Please adapt your code to use either `displot` (a figure-level function with similar flexibility) or `histplot` (an axes-level function for histograms).\n",
      "  warnings.warn(msg, FutureWarning)\n"
     ]
    },
    {
     "name": "stdout",
     "output_type": "stream",
     "text": [
      "mean squared error: 11.014283149347039\n"
     ]
    },
    {
     "data": {
      "image/png": "[encoded data removed]",
      "text/plain": [
       "<Figure size 432x288 with 1 Axes>"
      ]
     },
     "metadata": {
      "needs_background": "light"
     },
     "output_type": "display_data"
    }
   ],
   "source": [
    "X_train, y_train = preproc(df_train_fhv, train=True)\n",
    "X_val, y_val = preproc(df_val_fhv, train=False)\n",
    "model = train_and_eval(X_train, y_train, X_val, y_val)"
   ]
  },
  {
   "cell_type": "code",
   "execution_count": 108,
   "id": "a02577a5",
   "metadata": {},
   "outputs": [],
   "source": [
    "with open('models/lin_reg.bin', 'wb') as f_out:\n",
    "    pickle.dump((dv, model), f_out)"
   ]
  },
  {
   "cell_type": "code",
   "execution_count": 79,
   "id": "30d5093c",
   "metadata": {},
   "outputs": [],
   "source": []
  }
 ],
 "metadata": {
  "kernelspec": {
   "display_name": "Python 3 (ipykernel)",
   "language": "python",
   "name": "python3"
  },
  "language_info": {
   "codemirror_mode": {
    "name": "ipython",
    "version": 3
   },
   "file_extension": ".py",
   "mimetype": "text/x-python",
   "name": "python",
   "nbconvert_exporter": "python",
   "pygments_lexer": "ipython3",
   "version": "3.9.12"
  }
 },
 "nbformat": 4,
 "nbformat_minor": 5
}
